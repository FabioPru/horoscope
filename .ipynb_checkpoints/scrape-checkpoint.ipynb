{
 "cells": [
  {
   "cell_type": "code",
   "execution_count": null,
   "metadata": {},
   "outputs": [],
   "source": [
    "from bs4 import BeautifulSoup\n",
    "import requests\n",
    "import pandas as pd\n",
    "import re\n",
    "import csv"
   ]
  },
  {
   "cell_type": "code",
   "execution_count": null,
   "metadata": {},
   "outputs": [],
   "source": [
    "# I nomi delle colonne in pandas -> minuscoli\n",
    "\n",
    "# La data va messa in formato Datetime (pandas), c'è una funzione che lo fa\n",
    "# Il segno, sarebbe meglio metterlo in tipo Categorical"
   ]
  },
  {
   "cell_type": "code",
   "execution_count": null,
   "metadata": {},
   "outputs": [],
   "source": [
    "# Pulire il testo:\n",
    "\n",
    "# Rimuovere gli a capo\n",
    "# Mettere tutto in un file con solo testo\n",
    "\n",
    "# Lasicare solo a-zA-Z, '.,!?-'"
   ]
  },
  {
   "cell_type": "code",
   "execution_count": null,
   "metadata": {},
   "outputs": [],
   "source": [
    "error_msg = \"The page you are looking for no longer exists. Perhaps you can return back to the homepage and see if you can find what you are looking for. Or, you can try finding it by using the search form below.\"\n",
    "\n",
    "signs = [\"aries\", \"taurus\", \"gemini\", \"cancer\", \"leo\", \"virgo\", \"libra\", \n",
    "         \"scorpio\", \"sagittarius\", \"capricorn\", \"aquarius\", \"pisces\"]\n",
    "months = [\"january\", \"february\", \"march\", \"april\", \"may\", \"june\", \"july\", \n",
    "          \"august\", \"september\", \"october\", \"november\", \"december\"]\n",
    "\n",
    "days = [str(day) for day in range(1, 32)]\n",
    "    \n",
    "years = [\"2018\"]"
   ]
  },
  {
   "cell_type": "code",
   "execution_count": null,
   "metadata": {
    "scrolled": true
   },
   "outputs": [
    {
     "name": "stdout",
     "output_type": "stream",
     "text": [
      "9\n",
      "9\n",
      "9\n",
      "9\n",
      "9\n",
      "9\n",
      "9\n",
      "9\n",
      "9\n",
      "9\n",
      "9\n",
      "9\n",
      "9\n",
      "9\n",
      "9\n",
      "9\n",
      "9\n",
      "9\n",
      "9\n",
      "9\n",
      "9\n",
      "9\n",
      "9\n",
      "9\n",
      "9\n",
      "9\n",
      "9\n",
      "9\n",
      "9\n",
      "9\n",
      "9\n",
      "9\n",
      "9\n",
      "9\n",
      "9\n",
      "9\n",
      "9\n",
      "9\n",
      "9\n",
      "9\n",
      "9\n",
      "9\n",
      "9\n",
      "9\n",
      "9\n",
      "9\n",
      "9\n",
      "9\n",
      "9\n",
      "9\n",
      "9\n",
      "9\n",
      "9\n",
      "9\n",
      "9\n",
      "9\n"
     ]
    }
   ],
   "source": [
    "date_a = []\n",
    "sign_a = []\n",
    "text_a = []\n",
    "\n",
    "for sign, month, day, year in zip(signs, months, days, years):\n",
    "    try: \n",
    "        url = \"https://mystarshoroscopes.com/\" + sign + \"-daily-horoscope-for-\" \\\n",
    "                + month + \"-\" + day + \"-\" + year + \"/\"\n",
    "        requests.get(url, verify=True)\n",
    "        html = requests.get(url).text\n",
    "        a = BeautifulSoup(html, 'html5lib').find(class_ = \"entry-content\")\n",
    "        if a and a.text != error_msg:\n",
    "            text_a.append(a)\n",
    "            sign_a.append(sign)\n",
    "            date_a.append(day + \" \" + month + \" \" + year)\n",
    "            \n",
    "    except:\n",
    "        pass"
   ]
  },
  {
   "cell_type": "code",
   "execution_count": null,
   "metadata": {},
   "outputs": [],
   "source": [
    "df = pd.DataFrame({\"date\": date_a , \"sign\": sign_a  , \"text\": text_a }) \n",
    "export_csv = df.to_csv (r'C:\\Users\\Giuliano\\Documents\\horoscope_2018.csv', index = None, header=True)\n"
   ]
  },
  {
   "cell_type": "code",
   "execution_count": null,
   "metadata": {},
   "outputs": [],
   "source": []
  },
  {
   "cell_type": "code",
   "execution_count": null,
   "metadata": {},
   "outputs": [],
   "source": []
  }
 ],
 "metadata": {
  "kernelspec": {
   "display_name": "Python 3",
   "language": "python",
   "name": "python3"
  },
  "language_info": {
   "codemirror_mode": {
    "name": "ipython",
    "version": 3
   },
   "file_extension": ".py",
   "mimetype": "text/x-python",
   "name": "python",
   "nbconvert_exporter": "python",
   "pygments_lexer": "ipython3",
   "version": "3.7.3"
  },
  "toc": {
   "base_numbering": 1,
   "nav_menu": {},
   "number_sections": true,
   "sideBar": true,
   "skip_h1_title": false,
   "title_cell": "Table of Contents",
   "title_sidebar": "Contents",
   "toc_cell": false,
   "toc_position": {},
   "toc_section_display": true,
   "toc_window_display": false
  }
 },
 "nbformat": 4,
 "nbformat_minor": 2
}
