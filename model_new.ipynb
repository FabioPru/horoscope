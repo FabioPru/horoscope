{
 "cells": [
  {
   "cell_type": "markdown",
   "metadata": {},
   "source": [
    "The project is intended to create new horoscopes using RNN.\n",
    "First of all we need raw materials!\n",
    "Even if we'll use a pre-trained NLP model, we need as much horoscopes as possible.\n",
    "The best site we found was https://mystarshoroscopes.com/ \n",
    "It contains about 10000 horoscopes."
   ]
  },
  {
   "cell_type": "code",
   "execution_count": 34,
   "metadata": {
    "ExecuteTime": {
     "end_time": "2019-09-10T03:59:10.124763Z",
     "start_time": "2019-09-10T03:59:07.557375Z"
    }
   },
   "outputs": [],
   "source": [
    "from fastai.text import * \n",
    "from bs4 import BeautifulSoup\n",
    "import requests\n",
    "import pandas as pd\n",
    "import re\n",
    "import csv\n",
    "from vaderSentiment.vaderSentiment import SentimentIntensityAnalyzer\n",
    "import numpy as np\n",
    "import seaborn as sns\n",
    "import matplotlib.pyplot as plt\n",
    "from scipy import stats\n"
   ]
  },
  {
   "cell_type": "code",
   "execution_count": null,
   "metadata": {},
   "outputs": [],
   "source": [
    "error_msg = \"The page you are looking for no longer exists. Perhaps you can return back to the homepage and see if you can find what you are looking for. Or, you can try finding it by using the search form below.\"\n",
    "\n",
    "signs = [\"aries\", \"taurus\", \"gemini\", \"cancer\", \"leo\", \"virgo\", \"libra\", \n",
    "         \"scorpio\", \"sagittarius\", \"capricorn\", \"aquarius\", \"pisces\"]\n",
    "months = [\"january\", \"february\", \"march\", \"april\", \"may\", \"june\", \"july\", \n",
    "          \"august\", \"september\", \"october\", \"november\", \"december\"]\n",
    "\n",
    "days = [str(day) for day in range(1, 32)]\n",
    "    \n",
    "years = [\"2019\", \"2018\", \"2017\", \"2016\"]\n",
    "\n",
    "voc = \"qwertyuiopasdfghjklzxcvbnmèòàùQWERTYUIOPASDFGHJKLZXCVBNM.,;?! \""
   ]
  },
  {
   "cell_type": "markdown",
   "metadata": {},
   "source": [
    "We start by using requests module to request the html of the pages we are looking for.\n",
    "With BeautifulSoup library and some basic knowledge of html it can be found the horoscope's text on each page."
   ]
  },
  {
   "cell_type": "code",
   "execution_count": null,
   "metadata": {},
   "outputs": [],
   "source": [
    "datas = []\n",
    "\n",
    "for sign, month, day, year in zip(signs, months, days, years):\n",
    "    try: \n",
    "        url = \"https://mystarshoroscopes.com/\" + sign + \"-daily-horoscope-for-\" \\\n",
    "                + month + \"-\" + day + \"-\" + year + \"/\"\n",
    "        requests.get(url, verify=True)\n",
    "        html = requests.get(url).text\n",
    "        soup = BeautifulSoup(html, 'html5lib').find(class_ = \"entry-content\")\n",
    "        if soup and soup.text != error_msg:\n",
    "            datas.append((soup.text, sign, day + \" \" + month + \" \" + year))            \n",
    "    except:\n",
    "        pass"
   ]
  },
  {
   "cell_type": "markdown",
   "metadata": {},
   "source": [
    "We store the datas using pandas' DataFrame and we finally convert it into csv"
   ]
  },
  {
   "cell_type": "code",
   "execution_count": null,
   "metadata": {},
   "outputs": [],
   "source": [
    "df = pd.DataFrame(datas, columns = ['text', 'sign ', 'date']) \n",
    "export_csv = df.to_csv (r'C:\\Users\\Giuliano\\Documents\\GitHub\\horoscope\\horoscopes.csv', index = None, header=True)"
   ]
  },
  {
   "cell_type": "markdown",
   "metadata": {},
   "source": [
    "Cleaning the text ..."
   ]
  },
  {
   "cell_type": "code",
   "execution_count": null,
   "metadata": {},
   "outputs": [],
   "source": [
    "hor_csv = open(\"horoscopes.csv\", encoding=\"utf8\")\n",
    "hor = pd.read_csv(hor_csv)\n",
    "hor = hor.drop(columns = \"date\")\n",
    "index = [i for i in range(0, len(hor))]\n",
    "\n",
    "for i in index:\n",
    "    text = hor[\"text\"][i].strip()\n",
    "    text_new = \"\"\n",
    "    for char in text:\n",
    "        if char in voc:\n",
    "            text_new = text_new + char\n",
    "    hor.xs(i)['text'] = text_new\n",
    "\n",
    "export_csv = hor.to_csv (r'C:\\Users\\Giuliano\\Documents\\GitHub\\horoscope\\text_and_sign.csv', index = None, header=True)"
   ]
  },
  {
   "cell_type": "code",
   "execution_count": null,
   "metadata": {},
   "outputs": [],
   "source": [
    "hor_csv = open(\"horoscopes.csv\", encoding=\"utf8\")\n",
    "hor = pd.read_csv(hor_csv)\n",
    "hor = hor.drop(columns = \"date\")\n",
    "hor = hor.drop(columns = \"sign\")\n",
    "index = [i for i in range(0, len(hor))]\n",
    "\n",
    "for i in index:\n",
    "    text = hor[\"text\"][i].strip()\n",
    "    text_new = \"\"\n",
    "    for char in text:\n",
    "        if char in voc:\n",
    "            text_new = text_new + char\n",
    "    hor.xs(i)['text'] = text_new\n",
    "\n",
    "export_csv = hor.to_csv (r'C:\\Users\\Giuliano\\Documents\\GitHub\\horoscope\\textonly.csv', index = None, header=True)"
   ]
  },
  {
   "cell_type": "markdown",
   "metadata": {},
   "source": [
    "And we are ready to try the fastai library!\n",
    "The text module of the fastai library contains a pre-trained model for text-generation.\n",
    "We can try it without fine-tuned the model and it produces well sentences, but not horoscopes... \n",
    "So, we need to train the model with our datas.."
   ]
  },
  {
   "cell_type": "code",
   "execution_count": 97,
   "metadata": {
    "ExecuteTime": {
     "end_time": "2019-09-10T03:59:52.395122Z",
     "start_time": "2019-09-10T03:59:47.406824Z"
    }
   },
   "outputs": [],
   "source": [
    "data_lm = TextLMDataBunch.from_csv('.', 'textonly.csv')\n",
    "data_lm.save('data_lm_export.pkl')"
   ]
  },
  {
   "cell_type": "code",
   "execution_count": 98,
   "metadata": {
    "ExecuteTime": {
     "end_time": "2019-09-10T03:59:59.121113Z",
     "start_time": "2019-09-10T03:59:58.330769Z"
    }
   },
   "outputs": [
    {
     "ename": "RuntimeError",
     "evalue": "Error(s) in loading state_dict for AWD_LSTM:\n\tsize mismatch for encoder.weight: copying a param with shape torch.Size([7304, 400]) from checkpoint, the shape in current model is torch.Size([7320, 400]).\n\tsize mismatch for encoder_dp.emb.weight: copying a param with shape torch.Size([7304, 400]) from checkpoint, the shape in current model is torch.Size([7320, 400]).",
     "output_type": "error",
     "traceback": [
      "\u001b[1;31m---------------------------------------------------------------------------\u001b[0m",
      "\u001b[1;31mRuntimeError\u001b[0m                              Traceback (most recent call last)",
      "\u001b[1;32m<ipython-input-98-abbb50ec7bbc>\u001b[0m in \u001b[0;36m<module>\u001b[1;34m\u001b[0m\n\u001b[0;32m      3\u001b[0m \u001b[0mdata_lm\u001b[0m \u001b[1;33m=\u001b[0m \u001b[0mload_data\u001b[0m\u001b[1;33m(\u001b[0m\u001b[0mpath\u001b[0m\u001b[1;33m,\u001b[0m \u001b[1;34m'data_lm_export.pkl'\u001b[0m\u001b[1;33m)\u001b[0m\u001b[1;33m\u001b[0m\u001b[1;33m\u001b[0m\u001b[0m\n\u001b[0;32m      4\u001b[0m \u001b[0mlearn2\u001b[0m \u001b[1;33m=\u001b[0m \u001b[0mlanguage_model_learner\u001b[0m\u001b[1;33m(\u001b[0m\u001b[0mdata_lm\u001b[0m\u001b[1;33m,\u001b[0m \u001b[0mAWD_LSTM\u001b[0m\u001b[1;33m,\u001b[0m \u001b[0mdrop_mult\u001b[0m\u001b[1;33m=\u001b[0m\u001b[1;36m0.5\u001b[0m\u001b[1;33m)\u001b[0m\u001b[1;33m\u001b[0m\u001b[1;33m\u001b[0m\u001b[0m\n\u001b[1;32m----> 5\u001b[1;33m \u001b[0mlearn2\u001b[0m\u001b[1;33m.\u001b[0m\u001b[0mload_encoder\u001b[0m\u001b[1;33m(\u001b[0m\u001b[1;34m'language_model'\u001b[0m\u001b[1;33m)\u001b[0m\u001b[1;33m\u001b[0m\u001b[1;33m\u001b[0m\u001b[0m\n\u001b[0m\u001b[0;32m      6\u001b[0m \u001b[0mlearn2\u001b[0m\u001b[1;33m.\u001b[0m\u001b[0munfreeze\u001b[0m\u001b[1;33m(\u001b[0m\u001b[1;33m)\u001b[0m\u001b[1;33m\u001b[0m\u001b[1;33m\u001b[0m\u001b[0m\n",
      "\u001b[1;32m~\\Anaconda3\\lib\\site-packages\\fastai\\text\\learner.py\u001b[0m in \u001b[0;36mload_encoder\u001b[1;34m(self, name, device)\u001b[0m\n\u001b[0;32m     67\u001b[0m         \u001b[1;32mif\u001b[0m \u001b[0mdevice\u001b[0m \u001b[1;32mis\u001b[0m \u001b[1;32mNone\u001b[0m\u001b[1;33m:\u001b[0m \u001b[0mdevice\u001b[0m \u001b[1;33m=\u001b[0m \u001b[0mself\u001b[0m\u001b[1;33m.\u001b[0m\u001b[0mdata\u001b[0m\u001b[1;33m.\u001b[0m\u001b[0mdevice\u001b[0m\u001b[1;33m\u001b[0m\u001b[1;33m\u001b[0m\u001b[0m\n\u001b[0;32m     68\u001b[0m         \u001b[1;32mif\u001b[0m \u001b[0mhasattr\u001b[0m\u001b[1;33m(\u001b[0m\u001b[0mencoder\u001b[0m\u001b[1;33m,\u001b[0m \u001b[1;34m'module'\u001b[0m\u001b[1;33m)\u001b[0m\u001b[1;33m:\u001b[0m \u001b[0mencoder\u001b[0m \u001b[1;33m=\u001b[0m \u001b[0mencoder\u001b[0m\u001b[1;33m.\u001b[0m\u001b[0mmodule\u001b[0m\u001b[1;33m\u001b[0m\u001b[1;33m\u001b[0m\u001b[0m\n\u001b[1;32m---> 69\u001b[1;33m         \u001b[0mencoder\u001b[0m\u001b[1;33m.\u001b[0m\u001b[0mload_state_dict\u001b[0m\u001b[1;33m(\u001b[0m\u001b[0mtorch\u001b[0m\u001b[1;33m.\u001b[0m\u001b[0mload\u001b[0m\u001b[1;33m(\u001b[0m\u001b[0mself\u001b[0m\u001b[1;33m.\u001b[0m\u001b[0mpath\u001b[0m\u001b[1;33m/\u001b[0m\u001b[0mself\u001b[0m\u001b[1;33m.\u001b[0m\u001b[0mmodel_dir\u001b[0m\u001b[1;33m/\u001b[0m\u001b[1;34mf'{name}.pth'\u001b[0m\u001b[1;33m,\u001b[0m \u001b[0mmap_location\u001b[0m\u001b[1;33m=\u001b[0m\u001b[0mdevice\u001b[0m\u001b[1;33m)\u001b[0m\u001b[1;33m)\u001b[0m\u001b[1;33m\u001b[0m\u001b[1;33m\u001b[0m\u001b[0m\n\u001b[0m\u001b[0;32m     70\u001b[0m         \u001b[0mself\u001b[0m\u001b[1;33m.\u001b[0m\u001b[0mfreeze\u001b[0m\u001b[1;33m(\u001b[0m\u001b[1;33m)\u001b[0m\u001b[1;33m\u001b[0m\u001b[1;33m\u001b[0m\u001b[0m\n\u001b[0;32m     71\u001b[0m         \u001b[1;32mreturn\u001b[0m \u001b[0mself\u001b[0m\u001b[1;33m\u001b[0m\u001b[1;33m\u001b[0m\u001b[0m\n",
      "\u001b[1;32m~\\Anaconda3\\lib\\site-packages\\torch\\nn\\modules\\module.py\u001b[0m in \u001b[0;36mload_state_dict\u001b[1;34m(self, state_dict, strict)\u001b[0m\n\u001b[0;32m    775\u001b[0m         \u001b[1;32mif\u001b[0m \u001b[0mlen\u001b[0m\u001b[1;33m(\u001b[0m\u001b[0merror_msgs\u001b[0m\u001b[1;33m)\u001b[0m \u001b[1;33m>\u001b[0m \u001b[1;36m0\u001b[0m\u001b[1;33m:\u001b[0m\u001b[1;33m\u001b[0m\u001b[1;33m\u001b[0m\u001b[0m\n\u001b[0;32m    776\u001b[0m             raise RuntimeError('Error(s) in loading state_dict for {}:\\n\\t{}'.format(\n\u001b[1;32m--> 777\u001b[1;33m                                self.__class__.__name__, \"\\n\\t\".join(error_msgs)))\n\u001b[0m\u001b[0;32m    778\u001b[0m         \u001b[1;32mreturn\u001b[0m \u001b[0m_IncompatibleKeys\u001b[0m\u001b[1;33m(\u001b[0m\u001b[0mmissing_keys\u001b[0m\u001b[1;33m,\u001b[0m \u001b[0munexpected_keys\u001b[0m\u001b[1;33m)\u001b[0m\u001b[1;33m\u001b[0m\u001b[1;33m\u001b[0m\u001b[0m\n\u001b[0;32m    779\u001b[0m \u001b[1;33m\u001b[0m\u001b[0m\n",
      "\u001b[1;31mRuntimeError\u001b[0m: Error(s) in loading state_dict for AWD_LSTM:\n\tsize mismatch for encoder.weight: copying a param with shape torch.Size([7304, 400]) from checkpoint, the shape in current model is torch.Size([7320, 400]).\n\tsize mismatch for encoder_dp.emb.weight: copying a param with shape torch.Size([7304, 400]) from checkpoint, the shape in current model is torch.Size([7320, 400])."
     ]
    }
   ],
   "source": [
    "# Load previous iteration of the model\n",
    "path = 'C:/Users/Giuliano/Documents/GitHub/horoscope'\n",
    "data_lm = load_data(path, 'data_lm_export.pkl')                                 \n",
    "learn2 = language_model_learner(data_lm, AWD_LSTM, drop_mult=0.5)\n",
    "learn2.load_encoder('language_model')\n",
    "learn2.unfreeze()\n"
   ]
  },
  {
   "cell_type": "code",
   "execution_count": null,
   "metadata": {
    "ExecuteTime": {
     "end_time": "2019-09-10T15:06:41.430833Z",
     "start_time": "2019-09-10T15:06:40.561734Z"
    }
   },
   "outputs": [],
   "source": [
    "# See if it's working\n",
    "learn2.predict(\"Fabio is \", n_words=100)\n"
   ]
  },
  {
   "cell_type": "code",
   "execution_count": null,
   "metadata": {
    "ExecuteTime": {
     "end_time": "2019-09-10T11:03:33.867516Z",
     "start_time": "2019-09-10T04:00:38.093827Z"
    }
   },
   "outputs": [],
   "source": [
    "learn2.fit(1)\n"
   ]
  },
  {
   "cell_type": "code",
   "execution_count": 79,
   "metadata": {
    "ExecuteTime": {
     "end_time": "2019-09-10T11:03:34.119240Z",
     "start_time": "2019-09-10T11:03:33.870675Z"
    }
   },
   "outputs": [],
   "source": [
    "data_lm.save('data_lm_export.pkl')"
   ]
  },
  {
   "cell_type": "markdown",
   "metadata": {},
   "source": [
    "Sometimes you are lucky with horoscopes and sometimes not.\n",
    "Now, we want to predict if the horoscope brings you bad or good luck.\n",
    "Even if it is easy to implement a quick-model from scratch, we use vaderSentiment library. \n",
    "This library uses a bag of words approach (a lookup table of positive and negative words) with some simple heuristics.\n",
    "The advantage of this approach is that sentences containing negated positive words (e.g. “not happy”, “not good”) will still receive a negative sentence sentiment (thanks to the heuristics to flip the sentiment of the word following a negation).\n",
    "Instead, a quick-model will just take the average of the sentiments of the words and would miss details like this."
   ]
  },
  {
   "cell_type": "code",
   "execution_count": 31,
   "metadata": {},
   "outputs": [],
   "source": [
    "analyser = SentimentIntensityAnalyzer()\n",
    "\n",
    "def sentiment_analyzer_scores(sentence):\n",
    "    score = analyser.polarity_scores(sentence)\n",
    "    if score['compound'] > 0.3:\n",
    "        print(\"That's great!\")\n",
    "    elif score['compound'] < - 0.3:\n",
    "        print(\"That's a shame\")\n",
    "    else:\n",
    "        print(\"Could be better...\")"
   ]
  },
  {
   "cell_type": "code",
   "execution_count": 96,
   "metadata": {},
   "outputs": [
    {
     "name": "stdout",
     "output_type": "stream",
     "text": [
      "You will n’t do do n’t do do do do do n’t n’t do know % n’t to do feel do buttons do schemes so scenes la curious scenes scenes electronic to scenes crushing fronts scenes zone ’ll feel scenes scenes % to attention to system scenarios big scenes scenes scenes hustle to to to feel to been to much hustle to statements to cabinets to map takes wo to big attention to to to to multi bubble scenes lifetime with in to buttons to dedication scenes so reflecting scenes dedication with light to fore takes number par hustle light doors closet \n",
      "\n",
      "Could be better...\n"
     ]
    }
   ],
   "source": [
    "example = learn.predict(\"You will\", n_words=100)\n",
    "\n",
    "print(hor, \"\\n\")\n",
    "\n",
    "sentiment_analyzer_scores(hor)\n"
   ]
  },
  {
   "cell_type": "code",
   "execution_count": 105,
   "metadata": {
    "scrolled": true
   },
   "outputs": [
    {
     "data": {
      "text/plain": [
       "<matplotlib.axes._subplots.AxesSubplot at 0x2e227d9cb70>"
      ]
     },
     "execution_count": 105,
     "metadata": {},
     "output_type": "execute_result"
    },
    {
     "data": {
      "image/png": "[encoded data removed]",
      "text/plain": [
       "<Figure size 432x288 with 1 Axes>"
      ]
     },
     "metadata": {
      "needs_background": "light"
     },
     "output_type": "display_data"
    }
   ],
   "source": [
    "hor_csv = open(r'C:\\Users\\Giuliano\\Documents\\GitHub\\horoscope\\textonly.csv', encoding=\"utf8\")\n",
    "\n",
    "hor = pd.read_csv(hor_csv)\n",
    "sent_arr = []\n",
    "\n",
    "for i in index:\n",
    "    score = analyser.polarity_scores(learn.predict(hor.iloc[i]['text']))\n",
    "    sent_arr.append(score['compound'])\n",
    "\n",
    "sns.distplot(sent_arr)"
   ]
  },
  {
   "cell_type": "markdown",
   "metadata": {},
   "source": [
    "Using seaborn (a data visualization library) we plot an histogram of the horoscopes' luck.\n",
    "As can be seen from the graph above, most of them are positive.\n",
    "Now, we expect that our \"new\" horoscopes are positive, as well... And fortunately, that's true :)"
   ]
  },
  {
   "cell_type": "code",
   "execution_count": 92,
   "metadata": {
    "scrolled": true
   },
   "outputs": [
    {
     "name": "stdout",
     "output_type": "stream",
     "text": [
      "[0.4877, -0.2263, 0.9338, 0.7003, 0.8074, 0.7589, 0.7893, -0.8126, 0.7579, -0.25, 0.6486, 0.9521, 0.7506, -0.3446, 0.8671, 0.128, 0.4019, 0.7498, -0.1027, 0.784, 0.2263, 0.7399, 0.34, 0.128, 0.1027, 0.128, 0.8042, 0.5994, 0.7096, 0.9118, 0.7351, 0.34, 0.3818, -0.4588, 0.0, 0.5719, -0.5106, 0.8074, -0.4939, 0.4939, 0.7635, 0.5267, 0.9634, -0.3182, 0.5254, 0.891, 0.8151, 0.3612, 0.25, 0.6705, 0.5574, 0.5859, 0.5859, 0.4939, 0.7402, 0.4019, 0.765, 0.6705, 0.9464, -0.5574, 0.2648, 0.7269, 0.6124, -0.5715, 0.8225, 0.8934, 0.5106, 0.2212, 0.9403, 0.7399, 0.6344, 0.836, 0.6249, 0.1372, 0.8323, 0.3744, 0.6249, 0.2732, 0.743, 0.8934, 0.0516, 0.2177, 0.4404, 0.3182, 0.128, 0.7076, 0.7003, 0.8519, 0.8316, 0.5777, 0.8348, 0.6457, 0.603, -0.2263, 0.7717, 0.3535, 0.0772, 0.25, 0.9203, 0.8402]\n"
     ]
    },
    {
     "data": {
      "text/plain": [
       "<matplotlib.axes._subplots.AxesSubplot at 0x2e228023b00>"
      ]
     },
     "execution_count": 92,
     "metadata": {},
     "output_type": "execute_result"
    },
    {
     "data": {
      "image/png": "[encoded data removed]",
      "text/plain": [
       "<Figure size 432x288 with 1 Axes>"
      ]
     },
     "metadata": {
      "needs_background": "light"
     },
     "output_type": "display_data"
    }
   ],
   "source": [
    "sent_arr = []\n",
    "for _ in range(0, 100):\n",
    "    score = analyser.polarity_scores(learn.predict(\"You will\", n_words=100))\n",
    "    sent_arr.append(score['compound'])\n",
    "\n",
    "sns.distplot(sent_arr)"
   ]
  },
  {
   "cell_type": "markdown",
   "metadata": {},
   "source": [
    "Now, we want to classify our \"new\" horoscopes by their signs.\n",
    "We implement a naïve Bayes classifier from scratch.\n",
    "It is a simple \"probabilistic classifiers\" based on applying Bayes' theorem with strong (naïve) independence assumptions between the features.\n",
    "We use our datas to train it and then we can predict our new horoscopes. ( I should divide the training data into 2 parts to evaluate the accuracy. Buuut it can be low, soo maybe I won't show it in the real doc :( )"
   ]
  },
  {
   "cell_type": "code",
   "execution_count": 108,
   "metadata": {},
   "outputs": [
    {
     "name": "stdout",
     "output_type": "stream",
     "text": [
      "aries\n"
     ]
    }
   ],
   "source": [
    "def prob_word_sign(sign, word):\n",
    "    num_in = 0\n",
    "    num_in_tot = 0\n",
    "    for i in index:\n",
    "        if hor.loc[i]['sign'] == sign:\n",
    "            num_in_tot = num_in_tot + 1\n",
    "            if word.lower() in hor.iloc[i]['text'].lower().split():\n",
    "                num_in = num_in + 1\n",
    "    p = (num_in + 1) / (num_in_tot + 2)\n",
    "    return math.log(p)\n",
    "\n",
    "def prob_sent(sent, sign):\n",
    "    sum = 0\n",
    "    for word in sent.split():\n",
    "        sum = sum + prob_word_sign(sign, word)\n",
    "    return sum\n",
    "\n",
    "def sign_sent(sent):\n",
    "    tuple = max((prob_sent(sent, sign), sign) for sign in signs)\n",
    "    return tuple[1]\n",
    "\n",
    "\n",
    "hor_csv = open(r'C:\\Users\\Giuliano\\Documents\\GitHub\\horoscope\\text_and_sign.csv', encoding=\"utf8\")\n",
    "hor = pd.read_csv(hor_csv)\n",
    "\n",
    "\n",
    "print(sign_sent(\"Ggrrrr!!!! Feel like taking a risk in love? Or maybe you want to add a bit of uh, spice,  to your relationship. Then you’ll be pleased to know that amorous Venus enters your house of free-spirited thinking today. However, this isn’t just about being kinky, so stop thinking 50 Shades. This is more about taking exotic vacations together, dating a brand new type or going to new venues on date night.\"))"
   ]
  },
  {
   "cell_type": "markdown",
   "metadata": {},
   "source": []
  }
 ],
 "metadata": {
  "kernelspec": {
   "display_name": "Python 3",
   "language": "python",
   "name": "python3"
  },
  "toc": {
   "base_numbering": 1,
   "nav_menu": {},
   "number_sections": true,
   "sideBar": true,
   "skip_h1_title": false,
   "title_cell": "Table of Contents",
   "title_sidebar": "Contents",
   "toc_cell": false,
   "toc_position": {},
   "toc_section_display": true,
   "toc_window_display": false
  }
 },
 "nbformat": 4,
 "nbformat_minor": 2
}
