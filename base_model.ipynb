{
 "cells": [
  {
   "cell_type": "code",
   "execution_count": 1,
   "metadata": {
    "ExecuteTime": {
     "end_time": "2019-09-10T03:59:10.124763Z",
     "start_time": "2019-09-10T03:59:07.557375Z"
    }
   },
   "outputs": [],
   "source": [
    "import pandas as pd\n",
    "\n",
    "from fastai.text import * \n"
   ]
  },
  {
   "cell_type": "code",
   "execution_count": 6,
   "metadata": {
    "ExecuteTime": {
     "end_time": "2019-09-10T03:59:52.395122Z",
     "start_time": "2019-09-10T03:59:47.406824Z"
    }
   },
   "outputs": [],
   "source": [
    "data_lm = TextLMDataBunch.from_csv('.', 'textonly.csv')\n"
   ]
  },
  {
   "cell_type": "code",
   "execution_count": 8,
   "metadata": {
    "ExecuteTime": {
     "end_time": "2019-09-10T03:59:59.121113Z",
     "start_time": "2019-09-10T03:59:58.330769Z"
    }
   },
   "outputs": [],
   "source": [
    "# Load previous iteration of the model\n",
    "learn = language_model_learner(data_lm, AWD_LSTM, drop_mult=0.5)\n",
    "#learn.load_encoder('language_model')\n",
    "learn.unfreeze()\n"
   ]
  },
  {
   "cell_type": "code",
   "execution_count": 16,
   "metadata": {
    "ExecuteTime": {
     "end_time": "2019-09-10T15:06:41.430833Z",
     "start_time": "2019-09-10T15:06:40.561734Z"
    }
   },
   "outputs": [
    {
     "data": {
      "text/plain": [
       "'You  could feel excited about jumping into your bothering little life these days , even if you do n’t have enough information to let . Sometimes you just have to be honest with yourself . Do n’t be too thin skinned , then lower habits and strategies that will lead to more winners . \\n \\n  xxbos Strikes the right balance between your heart and your home . Spontaneous Uranus could definitely make you feel conservative , as the Moon may make you feel a bit off . Not to worry . Tomorrow'"
      ]
     },
     "execution_count": 16,
     "metadata": {},
     "output_type": "execute_result"
    }
   ],
   "source": [
    "# See if it's working\n",
    "learn.predict(\"You \", n_words=100)\n"
   ]
  },
  {
   "cell_type": "code",
   "execution_count": null,
   "metadata": {
    "ExecuteTime": {
     "end_time": "2019-09-10T03:59:10.392457Z",
     "start_time": "2019-09-10T03:59:09.983Z"
    }
   },
   "outputs": [],
   "source": []
  },
  {
   "cell_type": "code",
   "execution_count": 12,
   "metadata": {
    "ExecuteTime": {
     "end_time": "2019-09-10T11:03:33.867516Z",
     "start_time": "2019-09-10T04:00:38.093827Z"
    }
   },
   "outputs": [
    {
     "data": {
      "text/html": [
       "<table border=\"1\" class=\"dataframe\">\n",
       "  <thead>\n",
       "    <tr style=\"text-align: left;\">\n",
       "      <th>epoch</th>\n",
       "      <th>train_loss</th>\n",
       "      <th>valid_loss</th>\n",
       "      <th>accuracy</th>\n",
       "      <th>time</th>\n",
       "    </tr>\n",
       "  </thead>\n",
       "  <tbody>\n",
       "    <tr>\n",
       "      <td>0</td>\n",
       "      <td>3.293458</td>\n",
       "      <td>3.024576</td>\n",
       "      <td>0.414286</td>\n",
       "      <td>23:45</td>\n",
       "    </tr>\n",
       "    <tr>\n",
       "      <td>1</td>\n",
       "      <td>2.888122</td>\n",
       "      <td>2.751527</td>\n",
       "      <td>0.442857</td>\n",
       "      <td>23:23</td>\n",
       "    </tr>\n",
       "    <tr>\n",
       "      <td>2</td>\n",
       "      <td>2.657202</td>\n",
       "      <td>2.634088</td>\n",
       "      <td>0.485714</td>\n",
       "      <td>23:25</td>\n",
       "    </tr>\n",
       "    <tr>\n",
       "      <td>3</td>\n",
       "      <td>2.465587</td>\n",
       "      <td>2.621197</td>\n",
       "      <td>0.442857</td>\n",
       "      <td>23:24</td>\n",
       "    </tr>\n",
       "    <tr>\n",
       "      <td>4</td>\n",
       "      <td>2.319255</td>\n",
       "      <td>2.616566</td>\n",
       "      <td>0.471429</td>\n",
       "      <td>23:25</td>\n",
       "    </tr>\n",
       "    <tr>\n",
       "      <td>5</td>\n",
       "      <td>2.170712</td>\n",
       "      <td>2.533104</td>\n",
       "      <td>0.442857</td>\n",
       "      <td>23:29</td>\n",
       "    </tr>\n",
       "    <tr>\n",
       "      <td>6</td>\n",
       "      <td>2.033076</td>\n",
       "      <td>2.594405</td>\n",
       "      <td>0.414286</td>\n",
       "      <td>23:29</td>\n",
       "    </tr>\n",
       "    <tr>\n",
       "      <td>7</td>\n",
       "      <td>1.908788</td>\n",
       "      <td>2.604301</td>\n",
       "      <td>0.414286</td>\n",
       "      <td>23:27</td>\n",
       "    </tr>\n",
       "    <tr>\n",
       "      <td>8</td>\n",
       "      <td>1.792609</td>\n",
       "      <td>2.550431</td>\n",
       "      <td>0.428571</td>\n",
       "      <td>23:30</td>\n",
       "    </tr>\n",
       "    <tr>\n",
       "      <td>9</td>\n",
       "      <td>1.695090</td>\n",
       "      <td>2.695151</td>\n",
       "      <td>0.428571</td>\n",
       "      <td>23:31</td>\n",
       "    </tr>\n",
       "    <tr>\n",
       "      <td>10</td>\n",
       "      <td>1.583290</td>\n",
       "      <td>2.722529</td>\n",
       "      <td>0.428571</td>\n",
       "      <td>23:31</td>\n",
       "    </tr>\n",
       "    <tr>\n",
       "      <td>11</td>\n",
       "      <td>1.498169</td>\n",
       "      <td>2.755616</td>\n",
       "      <td>0.442857</td>\n",
       "      <td>23:32</td>\n",
       "    </tr>\n",
       "    <tr>\n",
       "      <td>12</td>\n",
       "      <td>1.413691</td>\n",
       "      <td>2.732662</td>\n",
       "      <td>0.442857</td>\n",
       "      <td>23:30</td>\n",
       "    </tr>\n",
       "    <tr>\n",
       "      <td>13</td>\n",
       "      <td>1.344625</td>\n",
       "      <td>2.885812</td>\n",
       "      <td>0.442857</td>\n",
       "      <td>23:29</td>\n",
       "    </tr>\n",
       "    <tr>\n",
       "      <td>14</td>\n",
       "      <td>1.265625</td>\n",
       "      <td>2.791601</td>\n",
       "      <td>0.414286</td>\n",
       "      <td>23:29</td>\n",
       "    </tr>\n",
       "    <tr>\n",
       "      <td>15</td>\n",
       "      <td>1.202479</td>\n",
       "      <td>2.909528</td>\n",
       "      <td>0.400000</td>\n",
       "      <td>23:30</td>\n",
       "    </tr>\n",
       "    <tr>\n",
       "      <td>16</td>\n",
       "      <td>1.134496</td>\n",
       "      <td>2.933483</td>\n",
       "      <td>0.457143</td>\n",
       "      <td>23:29</td>\n",
       "    </tr>\n",
       "    <tr>\n",
       "      <td>17</td>\n",
       "      <td>1.077996</td>\n",
       "      <td>2.916059</td>\n",
       "      <td>0.457143</td>\n",
       "      <td>23:29</td>\n",
       "    </tr>\n",
       "  </tbody>\n",
       "</table>"
      ],
      "text/plain": [
       "<IPython.core.display.HTML object>"
      ]
     },
     "metadata": {},
     "output_type": "display_data"
    }
   ],
   "source": [
    "learn.fit(18, 1e-3)\n"
   ]
  },
  {
   "cell_type": "code",
   "execution_count": 13,
   "metadata": {
    "ExecuteTime": {
     "end_time": "2019-09-10T11:03:34.119240Z",
     "start_time": "2019-09-10T11:03:33.870675Z"
    }
   },
   "outputs": [],
   "source": [
    "learn.save_encoder('language_model')\n"
   ]
  },
  {
   "cell_type": "code",
   "execution_count": null,
   "metadata": {},
   "outputs": [],
   "source": []
  }
 ],
 "metadata": {
  "kernelspec": {
   "display_name": "Python 3",
   "language": "python",
   "name": "python3"
  },
  "language_info": {
   "codemirror_mode": {
    "name": "ipython",
    "version": 3
   },
   "file_extension": ".py",
   "mimetype": "text/x-python",
   "name": "python",
   "nbconvert_exporter": "python",
   "pygments_lexer": "ipython3",
   "version": "3.7.3"
  },
  "toc": {
   "base_numbering": 1,
   "nav_menu": {},
   "number_sections": true,
   "sideBar": true,
   "skip_h1_title": false,
   "title_cell": "Table of Contents",
   "title_sidebar": "Contents",
   "toc_cell": false,
   "toc_position": {},
   "toc_section_display": true,
   "toc_window_display": false
  }
 },
 "nbformat": 4,
 "nbformat_minor": 2
}
